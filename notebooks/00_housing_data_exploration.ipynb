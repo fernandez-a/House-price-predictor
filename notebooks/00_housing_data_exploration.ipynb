{
 "cells": [
  {
   "cell_type": "markdown",
   "metadata": {},
   "source": [
    "## Import Libraries"
   ]
  },
  {
   "cell_type": "code",
   "execution_count": null,
   "metadata": {},
   "outputs": [],
   "source": [
    "import pandas as pd\n",
    "import numpy as np\n",
    "import matplotlib.pyplot as plt\n",
    "import seaborn as sns\n",
    "from sklearn.preprocessing import LabelEncoder\n",
    "\n",
    "le = LabelEncoder()"
   ]
  },
  {
   "cell_type": "markdown",
   "metadata": {},
   "source": [
    "## Load Data"
   ]
  },
  {
   "cell_type": "code",
   "execution_count": null,
   "metadata": {},
   "outputs": [],
   "source": [
    "df_housing = pd.read_csv('../scrapers/csv/fotocasa.csv')\n",
    "df_housing_2023 = pd.read_csv('../scrapers/csv/fotocasa_2023_located_districts.csv')\n",
    "\n",
    "df_housing.shape, df_housing_2023.shape"
   ]
  },
  {
   "cell_type": "markdown",
   "metadata": {},
   "source": [
    "## Preprocess"
   ]
  },
  {
   "cell_type": "code",
   "execution_count": null,
   "metadata": {},
   "outputs": [],
   "source": [
    "df_housing_2023.columns = df_housing_2023.columns.str.lower()"
   ]
  },
  {
   "cell_type": "code",
   "execution_count": null,
   "metadata": {},
   "outputs": [],
   "source": [
    "df_housing_2023['zipcode'] = df_housing_2023['zipcode'].fillna(0)\n",
    "df_housing_2023['zipcode'] = df_housing_2023['zipcode'].astype(int)\n",
    "df_housing['zipcode'] = df_housing['zipcode'].fillna(0)\n",
    "df_housing['zipcode'] = df_housing['zipcode'].astype(int)"
   ]
  },
  {
   "cell_type": "code",
   "execution_count": null,
   "metadata": {},
   "outputs": [],
   "source": [
    "df_housing.head()"
   ]
  },
  {
   "cell_type": "markdown",
   "metadata": {},
   "source": [
    "Going to delete the previous district column because after running the geolocate.py we get better accuracy"
   ]
  },
  {
   "cell_type": "code",
   "execution_count": null,
   "metadata": {},
   "outputs": [],
   "source": [
    "df_housing_2023 = df_housing_2023.rename(columns={'district_geolocated': 'district'})"
   ]
  },
  {
   "cell_type": "code",
   "execution_count": null,
   "metadata": {},
   "outputs": [],
   "source": [
    "print('Number of properties without price from df_housing: {}'.format(df_housing[df_housing['price'] == 0.0].shape[0]))\n",
    "print('Number of properties without price from df_housing_2023: {}'.format(df_housing_2023[df_housing_2023['price'] == 0.0].shape[0]))"
   ]
  },
  {
   "cell_type": "code",
   "execution_count": null,
   "metadata": {},
   "outputs": [],
   "source": [
    "df_housing = df_housing[df_housing['price'] != 0.0]\n",
    "df_housing_2023 = df_housing_2023[df_housing_2023['price'] != 0.0]"
   ]
  },
  {
   "cell_type": "code",
   "execution_count": null,
   "metadata": {},
   "outputs": [],
   "source": [
    "set(df_housing.columns) - set(df_housing_2023.columns)"
   ]
  },
  {
   "cell_type": "markdown",
   "metadata": {},
   "source": [
    "Going to see if those {'conservationState', 'garden'} columns are correlated with the price of the property if not we going to remove it "
   ]
  },
  {
   "cell_type": "code",
   "execution_count": null,
   "metadata": {},
   "outputs": [],
   "source": [
    "df_housing['district_encoded'] = le.fit_transform(df_housing['district'])\n",
    "df_housing['neighbourhood_encoded'] = le.fit_transform(df_housing['neighbourhood'])"
   ]
  },
  {
   "cell_type": "markdown",
   "metadata": {},
   "source": [
    "## Eda"
   ]
  },
  {
   "cell_type": "code",
   "execution_count": null,
   "metadata": {},
   "outputs": [],
   "source": [
    "df_housing['date'] = pd.to_datetime(df_housing['date'], format='ISO8601')\n",
    "ax = df_housing['date'].dt.year.value_counts().sort_index().plot(kind='bar')\n",
    "ax.set_xlabel('Year')\n",
    "ax.set_ylabel('Number of Properties')\n",
    "df_housing['date'].dt.year.value_counts().sort_index().plot(kind='bar')"
   ]
  },
  {
   "cell_type": "markdown",
   "metadata": {},
   "source": [
    "### Price"
   ]
  },
  {
   "cell_type": "code",
   "execution_count": null,
   "metadata": {},
   "outputs": [],
   "source": [
    "df_housing['price'].describe()"
   ]
  },
  {
   "cell_type": "code",
   "execution_count": null,
   "metadata": {},
   "outputs": [],
   "source": [
    "fig = plt.figure(figsize=(10, 4))\n",
    "\n",
    "plt.title('Price distribution')\n",
    "df_housing['price'].hist(bins=50)\n",
    "\n",
    "plt.show()"
   ]
  },
  {
   "cell_type": "code",
   "execution_count": null,
   "metadata": {},
   "outputs": [],
   "source": [
    "fig = plt.figure(figsize=(6, 4))\n",
    "\n",
    "plt.title('Price distribution by district')\n",
    "df_housing.groupby(by='district')['price'].mean().sort_values(ascending=False).plot(kind='bar')\n",
    "plt.savefig('../figs/price_distribution_by_district.png')\n",
    "plt.show()"
   ]
  },
  {
   "cell_type": "code",
   "execution_count": null,
   "metadata": {},
   "outputs": [],
   "source": [
    "df_copy = df_housing[df_housing['surface'] != 0.0].reset_index(drop=True)\n",
    "print(df_copy['surface'].describe())\n",
    "print(df_housing['price'].describe())"
   ]
  },
  {
   "cell_type": "code",
   "execution_count": null,
   "metadata": {},
   "outputs": [],
   "source": [
    "\n",
    "fig = plt.figure(figsize=(6, 4))\n",
    "\n",
    "plt.title('Correlation between price and surface')\n",
    "sns.scatterplot(data=df_copy, x='rooms', y='price')\n",
    "\n",
    "plt.show()"
   ]
  },
  {
   "cell_type": "code",
   "execution_count": null,
   "metadata": {},
   "outputs": [],
   "source": [
    "fig = plt.figure(figsize=(8, 8))\n",
    "\n",
    "correlation_matrix = df_housing.select_dtypes(exclude='object').corr()\n",
    "sns.heatmap(correlation_matrix, cmap='coolwarm')\n",
    "plt.title('Correlation Heatmap')\n",
    "plt.show()"
   ]
  },
  {
   "cell_type": "code",
   "execution_count": null,
   "metadata": {},
   "outputs": [],
   "source": [
    "fig = plt.figure(figsize=(6, 4))\n",
    "\n",
    "plt.title('Correlation between price and surface')\n",
    "sns.scatterplot(data=df_housing_2023, x='surface', y='price')\n",
    "\n",
    "plt.show()"
   ]
  },
  {
   "cell_type": "code",
   "execution_count": null,
   "metadata": {},
   "outputs": [],
   "source": [
    "fig = plt.figure(figsize=(6, 4))\n",
    "\n",
    "plt.title('Correlation between price and surface')\n",
    "sns.scatterplot(data=df_housing_2023, x='bathrooms', y='price')\n",
    "\n",
    "plt.show()"
   ]
  }
 ],
 "metadata": {
  "kernelspec": {
   "display_name": "memoria_practicas2",
   "language": "python",
   "name": "python3"
  },
  "language_info": {
   "codemirror_mode": {
    "name": "ipython",
    "version": 3
   },
   "file_extension": ".py",
   "mimetype": "text/x-python",
   "name": "python",
   "nbconvert_exporter": "python",
   "pygments_lexer": "ipython3",
   "version": "3.10.13"
  }
 },
 "nbformat": 4,
 "nbformat_minor": 2
}
