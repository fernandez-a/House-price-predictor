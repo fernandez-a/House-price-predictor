{
 "cells": [
  {
   "cell_type": "code",
   "execution_count": null,
   "id": "701f9463-62dd-4d46-87da-ff88be125f61",
   "metadata": {},
   "outputs": [],
   "source": [
    "import pandas as pd\n",
    "import numpy as np\n",
    "import seaborn as sns\n",
    "import re\n",
    "from matplotlib import pyplot as plt\n",
    "from plotly import express as px"
   ]
  },
  {
   "cell_type": "markdown",
   "id": "22e7676f",
   "metadata": {},
   "source": [
    "In this notebook, the data is going to be preprocess, to be ready for the data exploration and model creation"
   ]
  },
  {
   "cell_type": "markdown",
   "id": "4f016ac5",
   "metadata": {},
   "source": [
    "## Functions"
   ]
  },
  {
   "cell_type": "code",
   "execution_count": null,
   "id": "8d93042a-5070-4515-a85b-bcdb428b5bba",
   "metadata": {},
   "outputs": [],
   "source": [
    "def rename_uname(df):\n",
    "    for i , columns in enumerate(df.columns.levels):\n",
    "        column_new = columns.tolist()\n",
    "        for j, row in enumerate(column_new):\n",
    "            row = str(row)\n",
    "            if 'Unnamed' in row:\n",
    "                column_new[j] = \"\"\n",
    "            if \"NO\" == row:\n",
    "                column_new = \"\"\n",
    "        df = df.rename(columns=dict(zip(columns.tolist(), column_new)),\n",
    "            level = i)\n",
    "    return df\n",
    "\n",
    "def categorize_genre(value):\n",
    "  ending = value[-7:] \n",
    "  if ending == \"Mujeres\":\n",
    "    return \"Mujeres\"\n",
    "  elif ending == \"Hombres\":\n",
    "    return \"Hombres\"\n",
    "  else:\n",
    "    return \"Ambos sexos\"\n",
    "\n",
    "def renta_rename(df):\n",
    "    df = rename_uname(df).reset_index(drop=True)\n",
    "    years = list(set([col[0] for col in df.columns][1:]))\n",
    "    df.columns = [''.join(str(col)).strip() for col in df.columns.values]\n",
    "    df.columns = [col.replace(' ','_').lower() for col in df.columns.values]\n",
    "    df.columns = [col.replace(',','') for col in df.columns.values]\n",
    "\n",
    "\n",
    "    df = df.rename(columns={\n",
    "        \"('distrito_/_barrio'_'')\": 'distrito_barrio',\n",
    "        f\"({years[1]}_'renta_media_por_persona_')\": f'renta_media_por_persona_{years[1]}',\n",
    "        f\"({years[1]}_'renta_media_por_hogar')\": f'renta_media_por_hogar_{years[1]}',\n",
    "        f\"({years[0]}_'renta_media_por_persona_')\": f'renta_media_por_persona_{years[0]}',\n",
    "        f\"({years[0]}_'renta_media_por_hogar')\": f'renta_media_por_hogar_{years[0]}',\n",
    "    })\n",
    "    df = df.dropna()\n",
    "    df['distrito_barrio'].replace(regex=True,inplace=True,to_replace=r'\\d+\\.',value=r'')\n",
    "    df['distrito_barrio'] = df['distrito_barrio'].str.strip()\n",
    "    return df\n",
    "\n",
    "\n",
    "def clean_renta(df1):\n",
    "  list_columns = df1.columns.to_list()\n",
    "  distritos = df1.distrito_barrio\n",
    "  list_columns = df1.columns.to_list()\n",
    "  distritos = df1.distrito_barrio\n",
    "  list_years = list_columns[1:]\n",
    "  list_years = [name.split('_')[-1] for name in list_years]\n",
    "  list_years = list(set(list_years))\n",
    "\n",
    "  rent_1 = pd.concat([distritos,df1[list_columns[1:3]]],axis=1)\n",
    "  rent_2 = pd.concat([distritos,df1[list_columns[3:6]]],axis=1)\n",
    "  rent_1['year'] = list_years[1]\n",
    "  rent_2['year'] = list_years[0]\n",
    "  rent_1.columns = rent_1.columns.str.replace(r'_\\d+', '', regex=True)\n",
    "  rent_2.columns = rent_2.columns.str.replace(r'_\\d+', '', regex=True)\n",
    "\n",
    "  rents = pd.concat([rent_1, rent_2])\n",
    "  return rents"
   ]
  },
  {
   "cell_type": "markdown",
   "id": "8437e617-32b0-407e-8e63-3149bf75ddc3",
   "metadata": {
    "jp-MarkdownHeadingCollapsed": true
   },
   "source": [
    "## Paro"
   ]
  },
  {
   "cell_type": "markdown",
   "id": "144fe244",
   "metadata": {},
   "source": [
    "Preprocessing the data that came from the ayuntamiento de madrid and save it in csv format."
   ]
  },
  {
   "cell_type": "code",
   "execution_count": null,
   "id": "4d1fb164-57d6-4c9e-b14c-9a3eaf4aa06a",
   "metadata": {},
   "outputs": [],
   "source": [
    "paro_madrid_distri = pd.read_excel('../data/madrid/raw/paro/paro_madrid.xlsx',header=[0,2])\n",
    "paro_madrid_nh = pd.read_excel('../data/madrid/raw/paro/paro_madrid.xlsx',header=[1,2])\n",
    "\n",
    "districts = pd.read_csv('../data/madrid/cleaned/total_by_district.csv')['district'].tolist()\n",
    "\n",
    "paro_madrid_distri.head()"
   ]
  },
  {
   "cell_type": "code",
   "execution_count": null,
   "id": "096916ed-2965-4666-a24f-28f81cb709ed",
   "metadata": {},
   "outputs": [],
   "source": [
    "paro_madrid_distri = rename_uname(paro_madrid_distri).reset_index(drop=True)\n",
    "paro_madrid_distri.columns = [' '.join(col).strip() for col in paro_madrid_distri.columns.values]\n",
    "paro_madrid_distri.columns = [col.replace(' ','_').lower() for col in paro_madrid_distri.columns.values]\n",
    "paro_madrid_distri = paro_madrid_distri.drop(paro_madrid_distri.columns[0], axis=1)\n",
    "\n",
    "paro_madrid_distri.head()"
   ]
  },
  {
   "cell_type": "code",
   "execution_count": null,
   "id": "919e474b",
   "metadata": {},
   "outputs": [],
   "source": [
    "paro_madrid_nh = rename_uname(paro_madrid_nh).reset_index(drop=True)\n",
    "paro_madrid_nh.columns = [' '.join(col).strip() for col in paro_madrid_nh.columns.values]\n",
    "paro_madrid_nh.columns = [col.replace(' ','_').lower() for col in paro_madrid_nh.columns.values]\n",
    "paro_madrid_nh = paro_madrid_nh.drop(paro_madrid_nh.columns[0], axis=1)\n",
    "\n",
    "paro_madrid_nh.head()"
   ]
  },
  {
   "cell_type": "code",
   "execution_count": null,
   "id": "1a0e1f7a",
   "metadata": {},
   "outputs": [],
   "source": [
    "paro_madrid_distri = paro_madrid_distri.drop(columns=['ciudad_de_madrid_ambos_sexos'])\n",
    "paro_madrid_nh = paro_madrid_nh.drop(columns=['ciudad_de_madrid_ambos_sexos'])"
   ]
  },
  {
   "cell_type": "code",
   "execution_count": null,
   "id": "14600d7f",
   "metadata": {},
   "outputs": [],
   "source": [
    "paro_madrid_nh.columns"
   ]
  },
  {
   "cell_type": "code",
   "execution_count": null,
   "id": "b279f740",
   "metadata": {},
   "outputs": [],
   "source": [
    "import re\n",
    "pattern = re.compile(\"\\d{2}_\")\n",
    "columns_to_drop = [col for col in paro_madrid_nh.columns if pattern.match(col)]\n",
    "paro_madrid_nh = paro_madrid_nh.drop(columns=columns_to_drop)\n",
    "columns_to_drop = [col for col in paro_madrid_nh.columns if 'no_consta' in col]\n",
    "paro_madrid_nh = paro_madrid_nh.drop(columns=columns_to_drop)\n",
    "paro_madrid_nh.columns"
   ]
  },
  {
   "cell_type": "code",
   "execution_count": null,
   "id": "ad4db5c5",
   "metadata": {},
   "outputs": [],
   "source": [
    "import re\n",
    "pattern = re.compile(\".+\\d$\")\n",
    "columns_to_drop = [col for col in paro_madrid_distri.columns if pattern.match(col)]\n",
    "paro_madrid_distri = paro_madrid_distri.drop(columns=columns_to_drop)\n"
   ]
  },
  {
   "cell_type": "code",
   "execution_count": null,
   "id": "ae84bd64",
   "metadata": {},
   "outputs": [],
   "source": [
    "paro_madrid_distri.columns = ['_'.join(col.split('_')[1:]) for col in paro_madrid_distri.columns]\n",
    "paro_madrid_nh.columns = ['_'.join(col.split('_')[1:]) for col in paro_madrid_nh.columns]"
   ]
  },
  {
   "cell_type": "code",
   "execution_count": null,
   "id": "ff978789",
   "metadata": {},
   "outputs": [],
   "source": [
    "paro_madrid_distri.head(1)"
   ]
  },
  {
   "cell_type": "code",
   "execution_count": null,
   "id": "351aa219",
   "metadata": {},
   "outputs": [],
   "source": [
    "paro_madrid_nh.head(1)"
   ]
  },
  {
   "cell_type": "code",
   "execution_count": null,
   "id": "4e55aed5-8897-47b4-869b-c311c941ed60",
   "metadata": {},
   "outputs": [],
   "source": [
    "total_paro = pd.DataFrame(paro_madrid_distri.sum())\n",
    "total_paro['district'] = total_paro.index\n",
    "total_paro.reset_index(drop=True,inplace=True)\n",
    "total_paro.rename(columns={0:'total'}, inplace=True)\n",
    "total_paro = total_paro.reindex(columns=['district','total'])\n",
    "total_paro['total'] = total_paro['total'].astype(int)\n",
    "total_paro['district'] = total_paro.district.str.title()\n",
    "total_paro['genre'] = total_paro['district'].apply(categorize_genre)\n",
    "\n",
    "genre_map = {\"_Mujeres\": \"\", \"_Hombres\": \"\", \"_Ambos_Sexos\": \"\"}\n",
    "total_paro['district'] = total_paro['district'].replace(genre_map, regex=True)\n",
    "total_paro['district'] = total_paro['district'].str.replace('_',' ')\n",
    "total_paro['district'] = total_paro['district'].str.replace('Vallecas ','')\n",
    "\n",
    "total_paro = total_paro[~total_paro['district'].isin(['No Consta','Ciudad De Madrid'])]\n",
    "total_paro.to_csv('../data/madrid/cleaned/paro_by_district.csv')"
   ]
  },
  {
   "cell_type": "code",
   "execution_count": null,
   "id": "b5276981",
   "metadata": {},
   "outputs": [],
   "source": [
    "total_paro = pd.DataFrame(paro_madrid_nh.sum())\n",
    "total_paro['district'] = total_paro.index\n",
    "total_paro.reset_index(drop=True,inplace=True)\n",
    "total_paro.rename(columns={0:'total'}, inplace=True)\n",
    "total_paro = total_paro.reindex(columns=['district','total'])\n",
    "total_paro['total'] = total_paro['total'].astype(int)\n",
    "total_paro['district'] = total_paro.district.str.title()\n",
    "total_paro['genre'] = total_paro['district'].apply(categorize_genre)\n",
    "\n",
    "genre_map = {\"_Mujeres\": \"\", \"_Hombres\": \"\", \"_Ambos_Sexos\": \"\"}\n",
    "total_paro['district'] = total_paro['district'].replace(genre_map, regex=True)\n",
    "total_paro['district'] = total_paro['district'].str.replace('_',' ')\n",
    "total_paro['district'] = total_paro['district'].str.replace('Vallecas ','')\n",
    "\n",
    "total_paro = total_paro[~total_paro['district'].isin(['No Consta','Ciudad De Madrid'])]\n",
    "total_paro.to_csv('../data/madrid/cleaned/paro_by_neighbourhood.csv')"
   ]
  },
  {
   "cell_type": "markdown",
   "id": "4b42552f",
   "metadata": {},
   "source": [
    "## Vivienda"
   ]
  },
  {
   "cell_type": "markdown",
   "id": "850e9e23",
   "metadata": {},
   "source": [
    "### Datos inmobiliarios"
   ]
  },
  {
   "cell_type": "code",
   "execution_count": null,
   "id": "ef225d7a",
   "metadata": {},
   "outputs": [],
   "source": [
    "df_fotocasa = pd.read_csv('../data/madrid/cleaned/fotocasa/fotocasa_2023_located_districts.csv')\n",
    "df_fotocasa.shape"
   ]
  },
  {
   "cell_type": "code",
   "execution_count": null,
   "id": "b6c141ab",
   "metadata": {},
   "outputs": [],
   "source": [
    "\n",
    "df_fotocasa['date_scraped'] = pd.to_datetime('2024-04-09')\n",
    "\n",
    "df_fotocasa.head()\n",
    "\n"
   ]
  },
  {
   "cell_type": "code",
   "execution_count": null,
   "id": "1232b689",
   "metadata": {},
   "outputs": [],
   "source": [
    "fig = plt.figure(figsize=(10,5))\n",
    "\n",
    "sns.histplot(data=df_fotocasa, x='Price', bins=100, kde=True)\n",
    "plt.show()"
   ]
  },
  {
   "cell_type": "code",
   "execution_count": null,
   "id": "3652b68e",
   "metadata": {},
   "outputs": [],
   "source": [
    "from scipy.stats import skew\n",
    "\n",
    "skewness = skew(df_fotocasa['Price'])\n",
    "print(\"Skewness:\", skewness)"
   ]
  },
  {
   "cell_type": "code",
   "execution_count": null,
   "id": "35bd7fe4",
   "metadata": {},
   "outputs": [],
   "source": [
    "df_fotocasa['Price'].mean()"
   ]
  },
  {
   "cell_type": "code",
   "execution_count": null,
   "id": "e9bceea0",
   "metadata": {},
   "outputs": [],
   "source": [
    "df_fotocasa.isna().sum()"
   ]
  },
  {
   "cell_type": "code",
   "execution_count": null,
   "id": "25651f95",
   "metadata": {},
   "outputs": [],
   "source": [
    "fig = plt.figure(figsize=(10,5))\n",
    "\n",
    "plt.title('Price distribution of houses in Madrid more than 500000€')\n",
    "sns.histplot(data=df_fotocasa[df_fotocasa['Price'] > 500000], x='Price', bins=20, kde=True)\n",
    "plt.xticks(rotation=45)\n",
    "plt.show()"
   ]
  },
  {
   "cell_type": "code",
   "execution_count": null,
   "id": "d5f6aaea",
   "metadata": {},
   "outputs": [],
   "source": [
    "fig = plt.figure(figsize=(10,5))\n",
    "plt.title('Price distribution of houses in Madrid less than 500000€')\n",
    "\n",
    "sns.histplot(data=df_fotocasa[df_fotocasa['Price'] < 500000], x='Price', bins=100, kde=True)\n",
    "plt.show()"
   ]
  },
  {
   "cell_type": "markdown",
   "id": "6608ea6f",
   "metadata": {},
   "source": [
    "Outliers"
   ]
  },
  {
   "cell_type": "code",
   "execution_count": null,
   "id": "94b77681",
   "metadata": {},
   "outputs": [],
   "source": [
    "sns.boxplot(data=df_fotocasa, x='Price')\n",
    "plt.show()"
   ]
  },
  {
   "cell_type": "code",
   "execution_count": null,
   "id": "538dd856",
   "metadata": {},
   "outputs": [],
   "source": [
    "Q1 = df_fotocasa['Price'].quantile(0.25)\n",
    "Q3 = df_fotocasa['Price'].quantile(0.75)\n",
    "IQR = Q3 - Q1\n",
    "\n",
    "lower_bound = Q1 - 1.5 * IQR\n",
    "upper_bound = Q3 + 1.5 * IQR\n",
    "\n",
    "df_filterd = df_fotocasa[(df_fotocasa['Price'] >= lower_bound) & (df_fotocasa['Price'] <= upper_bound)]"
   ]
  },
  {
   "cell_type": "code",
   "execution_count": null,
   "id": "8d3f4200",
   "metadata": {},
   "outputs": [],
   "source": [
    "sns.histplot(data=df_filterd, x='Price', bins=20, kde=True)"
   ]
  },
  {
   "cell_type": "markdown",
   "id": "948e3d5a-279b-4846-9073-78bfa51577e5",
   "metadata": {},
   "source": [
    "### Vivienda m2"
   ]
  },
  {
   "cell_type": "code",
   "execution_count": null,
   "id": "6518662d",
   "metadata": {},
   "outputs": [],
   "source": [
    "df_housing = pd.read_excel('../data/madrid/raw/vivienda_segunda_mano.xlsx')\n",
    "df_housing = df_housing.replace('-',0)\n",
    "df_housing.rename(columns={'Unnamed: 0':'district', 'Unnamed: 1':'barrio'}, inplace=True)\n",
    "df_housing['district'].replace(regex=True,inplace=True,to_replace=r'\\d+\\.',value=r'')\n",
    "df_housing['barrio'].replace(regex=True,inplace=True,to_replace=r'\\d+\\.',value=r'')"
   ]
  },
  {
   "cell_type": "code",
   "execution_count": null,
   "id": "d9f59329",
   "metadata": {},
   "outputs": [],
   "source": [
    "df_housing_yearly = pd.melt(df_housing, id_vars=['barrio', 'district'], var_name='year', value_name='price')\n",
    "df_housing_yearly['price'] = df_housing_yearly['price'].astype(float)\n",
    "df_housing_yearly['year'] = df_housing_yearly['year'].astype(int)\n",
    "df_housing_yearly.to_csv('../data/madrid/cleaned/sq2_madrid_yearly.csv')\n",
    "df_housing_yearly.head()"
   ]
  },
  {
   "cell_type": "code",
   "execution_count": null,
   "id": "1fb43434",
   "metadata": {},
   "outputs": [],
   "source": [
    "price_district_m2 = df_housing_yearly.groupby(['district','year']).agg({'price':'mean'}).reset_index()\n",
    "price_neighbourhood_m2 = df_housing_yearly.groupby(['barrio','year']).agg({'price':'sum'}).reset_index()\n",
    "price_district_m2"
   ]
  },
  {
   "cell_type": "code",
   "execution_count": null,
   "id": "97784d13",
   "metadata": {},
   "outputs": [],
   "source": [
    "month_map = {'Enero': 1, 'Febrero': 2, 'Marzo': 3, 'Abril': 4, 'Mayo': 5, 'Junio': 6,\n",
    "             'Julio': 7, 'Agosto': 8, 'Septiembre': 9, 'Octubre': 10, 'Noviembre': 11, 'Diciembre': 12}"
   ]
  },
  {
   "cell_type": "code",
   "execution_count": null,
   "id": "ed40cea7",
   "metadata": {},
   "outputs": [],
   "source": [
    "\n",
    "df_housing_month = pd.read_excel('../data/madrid/raw/vivienda_segunda_mano_mes.xlsx')\n",
    "df_housing_month = df_housing_month.replace('-',0)\n",
    "df_housing_month.rename(columns={'Unnamed: 0':'año', 'Unnamed: 1':'district'}, inplace=True)\n",
    "df_housing_month['district'].replace(regex=True,inplace=True,to_replace=r'\\d+\\.',value=r'')\n",
    "df_housing_month['district'] = df_housing_month['district'].str.strip()\n",
    "\n",
    "df_housing_month = pd.melt(df_housing_month, id_vars=['año', 'district'], var_name='month', value_name='price')\n",
    "df_housing_month['price'] = df_housing_month['price'].astype(float)\n",
    "df_housing_month['month_n'] = df_housing_month['month'].map(month_map).astype(int)\n",
    "df_housing_month"
   ]
  },
  {
   "cell_type": "code",
   "execution_count": null,
   "id": "19b07cca",
   "metadata": {},
   "outputs": [],
   "source": [
    "df_housing_month['month_w_price'] = df_housing_month[df_housing_month['price'] > 0.0].groupby(['district','año'])['price'].transform('count')\n",
    "df_housing_month['month_w_price'] = df_housing_month['month_w_price'].fillna(0)\n",
    "df_housing_month = df_housing_month[df_housing_month['month_w_price'] >= 9]\n",
    "df_housing_month = df_housing_month.groupby(['district','año']).agg({'price':'mean'}).reset_index()"
   ]
  },
  {
   "cell_type": "code",
   "execution_count": null,
   "id": "7ed596a8",
   "metadata": {},
   "outputs": [],
   "source": [
    "df_housing_month[df_housing_month['año'] == 2006]\n",
    "df_housing_month.año.unique()"
   ]
  },
  {
   "cell_type": "code",
   "execution_count": null,
   "id": "a911f3aa",
   "metadata": {},
   "outputs": [],
   "source": [
    "df_housing_month = df_housing_month[~df_housing_month.año.isin([2007, 2008, 2009, 2023])]\n",
    "df_housing_month.año.unique()"
   ]
  },
  {
   "cell_type": "code",
   "execution_count": null,
   "id": "fa088381",
   "metadata": {},
   "outputs": [],
   "source": [
    "df_housing_month.to_csv('../data/madrid/cleaned/sq2_madrid_monthly.csv')"
   ]
  },
  {
   "cell_type": "code",
   "execution_count": null,
   "id": "8a07801e",
   "metadata": {},
   "outputs": [],
   "source": [
    "df_housing_concat = pd.concat([df_housing_month, price_district_m2])\n",
    "df_housing_concat = df_housing_concat.fillna('-')\n",
    "df_housing_concat['date'] = df_housing_concat['año'].astype(str) + df_housing_concat['year'].astype(str)\n",
    "df_housing_concat['date'] = df_housing_concat['date'].str.replace('-','').astype(float)\n",
    "df_housing_concat['date'] = df_housing_concat['date'].astype(int)\n",
    "df_housing_concat = df_housing_concat.drop(columns=['año','year'])"
   ]
  },
  {
   "cell_type": "code",
   "execution_count": null,
   "id": "4c3c9601",
   "metadata": {},
   "outputs": [],
   "source": [
    "df_housing_concat = df_housing_concat.rename(columns={'date':'m2_date', 'price':'price_m2'})"
   ]
  },
  {
   "cell_type": "code",
   "execution_count": null,
   "id": "6b5f18d6",
   "metadata": {},
   "outputs": [],
   "source": [
    "df_housing_concat.to_csv('../data/madrid/cleaned/sq2_madrid_yearly.csv')"
   ]
  },
  {
   "cell_type": "code",
   "execution_count": null,
   "id": "26d94e11",
   "metadata": {},
   "outputs": [],
   "source": [
    "df_housing_concat"
   ]
  },
  {
   "cell_type": "code",
   "execution_count": null,
   "id": "3f8d82f1",
   "metadata": {},
   "outputs": [],
   "source": [
    "px.line(df_housing_concat, x='m2_date', y='price_m2', color='district', title='Price per m2 in Madrid by district')"
   ]
  },
  {
   "cell_type": "markdown",
   "id": "46b76655",
   "metadata": {},
   "source": [
    "## Renta"
   ]
  },
  {
   "cell_type": "code",
   "execution_count": null,
   "id": "6d8c154f",
   "metadata": {},
   "outputs": [],
   "source": [
    "renta_15_16 = pd.read_excel('../data/madrid/raw/renta/renta_15_16.xlsx',skiprows=[0,1,2,3,4], header=[0,1])  \n",
    "renta_16_17 = pd.read_excel('../data/madrid/raw/renta/renta17_16.xlsx', skiprows=[0,1,2,3,4], header=[0,1])    \n",
    "renta_17_18 = pd.read_excel('../data/madrid/raw/renta/renta17_18.xlsx', skiprows=[0,1,2,3,4], header=[0,1])    \n",
    "renta_18_20 = pd.read_excel('../data/madrid/raw/renta/renta19_20.xlsm', skiprows=[0,1,2,3,4], header=[0,1])   "
   ]
  },
  {
   "cell_type": "code",
   "execution_count": null,
   "id": "3a504c3c",
   "metadata": {},
   "outputs": [],
   "source": [
    "renta_15_16 = renta_rename(renta_15_16)\n",
    "renta_16_17 = renta_rename(renta_16_17)\n",
    "renta_17_18 =  renta_rename(renta_17_18)\n",
    "renta_19_20 = renta_rename(renta_18_20)"
   ]
  },
  {
   "cell_type": "code",
   "execution_count": null,
   "id": "4f805792",
   "metadata": {},
   "outputs": [],
   "source": [
    "renta_15_16 = clean_renta(renta_15_16)\n",
    "renta_16_17 = clean_renta(renta_16_17)\n",
    "renta_17_18 =  clean_renta(renta_17_18)\n",
    "renta_19_20 = clean_renta(renta_19_20)"
   ]
  },
  {
   "cell_type": "markdown",
   "id": "5fcbe3e9",
   "metadata": {},
   "source": [
    "## Points"
   ]
  },
  {
   "cell_type": "code",
   "execution_count": null,
   "id": "9b39e896",
   "metadata": {},
   "outputs": [],
   "source": [
    "points_raw = pd.read_csv('../data/points/amenity.csv')\n",
    "points_raw.shape"
   ]
  },
  {
   "cell_type": "markdown",
   "id": "ee5bd2f4",
   "metadata": {},
   "source": [
    "## Dataset Creation"
   ]
  },
  {
   "cell_type": "code",
   "execution_count": null,
   "id": "ec050763",
   "metadata": {},
   "outputs": [],
   "source": [
    "#need to find which categories we wanna locate \n",
    "df_amenity = pd.read_csv('../data/points/amenity.csv')\n",
    "df_amenity.category.unique()"
   ]
  },
  {
   "cell_type": "code",
   "execution_count": null,
   "id": "d258071d",
   "metadata": {},
   "outputs": [],
   "source": [
    "df_housing = pd.read_csv('../data/madrid/cleaned/fotocasa/fotocasa_2023_located_districts.csv')\n",
    "df_housing.shape"
   ]
  },
  {
   "cell_type": "code",
   "execution_count": null,
   "id": "c9b78082",
   "metadata": {},
   "outputs": [],
   "source": [
    "df_housing.rename(columns={'district_geolocated':'distrito_barrio'}, inplace=True)"
   ]
  },
  {
   "cell_type": "code",
   "execution_count": null,
   "id": "77b62f96",
   "metadata": {},
   "outputs": [],
   "source": [
    "df_housing.columns = df_housing.columns.str.lower()\n",
    "df_housing['zipcode'] = df_housing['zipcode'].fillna(0)\n",
    "df_housing['zipcode'] = df_housing['zipcode'].astype(int)\n",
    "df_housing['house_id'] = df_housing.index"
   ]
  },
  {
   "cell_type": "code",
   "execution_count": null,
   "id": "41c1fca3",
   "metadata": {},
   "outputs": [],
   "source": [
    "df_airbnb = pd.read_csv('../data/points/points_count/housing_airbnb.csv')\n",
    "df_college = pd.read_csv('../data/points/points_count/housing_college.csv')\n",
    "df_dentist = pd.read_csv('../data/points/points_count/housing_dentist.csv')\n",
    "df_fast_food = pd.read_csv('../data/points/points_count/housing_fast_food.csv')\n",
    "df_jewelry = pd.read_csv('../data/points/points_count/housing_jewelry.csv')\n",
    "df_university = pd.read_csv('../data/points/points_count/housing_university.csv')\n",
    "df_restaurant = pd.read_csv('../data/points/points_count/housing_restaurant.csv')\n",
    "df_hospital = pd.read_csv('../data/points/points_count/housing_hospital.csv')\n",
    "df_pharmacy = pd.read_csv('../data/points/points_count/housing_pharmacies.csv')\n",
    "df_supermarket = pd.read_csv('../data/points/points_count/housing_supermarket.csv')\n",
    "df_airbnb.shape, df_college.shape, df_dentist.shape, df_fast_food.shape, df_jewelry.shape, df_university.shape, df_restaurant.shape, df_hospital.shape"
   ]
  },
  {
   "cell_type": "code",
   "execution_count": null,
   "id": "129c50f3",
   "metadata": {},
   "outputs": [],
   "source": [
    "df_airbn = df_airbnb.groupby('house_id').agg(count=(df_airbnb.columns[1],'count')).reset_index()\n",
    "df_college = df_college.groupby('house_id').agg(count=(df_college.columns[1],'count')).reset_index()\n",
    "df_dentist = df_dentist.groupby('house_id').agg(count=(df_dentist.columns[1],'count')).reset_index()\n",
    "df_fast_food = df_fast_food.groupby('house_id').agg(count=(df_fast_food.columns[1],'count')).reset_index()\n",
    "df_jewelry = df_jewelry.groupby('house_id').agg(count=(df_jewelry.columns[1],'count')).reset_index()\n",
    "df_university = df_university.groupby('house_id').agg(count=(df_university.columns[1],'count')).reset_index()\n",
    "df_restaurant = df_restaurant.groupby('house_id').agg(count=(df_restaurant.columns[1],'count')).reset_index()\n",
    "df_hospital = df_hospital.groupby('house_id').agg(count=(df_hospital.columns[1],'count')).reset_index()\n",
    "df_pharmacy = df_pharmacy.groupby('house_id').agg(count=(df_pharmacy.columns[1],'count')).reset_index()\n",
    "df_supermarket = df_supermarket.groupby('house_id').agg(count=(df_supermarket.columns[1],'count')).reset_index()"
   ]
  },
  {
   "cell_type": "code",
   "execution_count": null,
   "id": "9f71b5bd",
   "metadata": {},
   "outputs": [],
   "source": [
    "df_housing_left = df_housing.merge(df_airbn, on='house_id', how='left', suffixes=('', '_airbnb'))\n",
    "df_housing_left = df_housing_left.merge(df_college, on='house_id', how='left', suffixes=('', '_college_500'))\n",
    "df_housing_left = df_housing_left.merge(df_dentist, on='house_id', how='left', suffixes=('', '_dentist_500'))\n",
    "df_housing_left = df_housing_left.merge(df_fast_food, on='house_id', how='left', suffixes=('', '_fast_food_500'))\n",
    "df_housing_left = df_housing_left.merge(df_jewelry, on='house_id', how='left', suffixes=('', '_jewelry_500'))\n",
    "df_housing_left = df_housing_left.merge(df_university, on='house_id', how='left', suffixes=('', '_university_500'))\n",
    "df_housing_left = df_housing_left.merge(df_restaurant, on='house_id', how='left', suffixes=('', '_restaurant_500'))\n",
    "df_housing_left = df_housing_left.merge(df_hospital, on='house_id', how='left', suffixes=('', '_hospital_500'))\n",
    "df_housing_left = df_housing_left.merge(df_pharmacy, on='house_id', how='left', suffixes=('', '_pharmacy_500'))\n",
    "df_housing_left = df_housing_left.merge(df_pharmacy, on='house_id', how='left', suffixes=('', '_supermarket_500'))\n"
   ]
  },
  {
   "cell_type": "code",
   "execution_count": null,
   "id": "a7389219",
   "metadata": {},
   "outputs": [],
   "source": [
    "df_housing_left = df_housing_left.rename(columns={'count':'count_airbnb_500'})"
   ]
  },
  {
   "cell_type": "code",
   "execution_count": null,
   "id": "103f120f",
   "metadata": {},
   "outputs": [],
   "source": [
    "df_housing_left[df_housing_left.columns[df_housing_left.columns.str.contains('count')]].fillna(0, inplace=True)"
   ]
  },
  {
   "cell_type": "code",
   "execution_count": null,
   "id": "98f8f9f8",
   "metadata": {},
   "outputs": [],
   "source": [
    "df_housing_left = df_housing_left[~df_housing_left['neighbourhood'].isna()]\n",
    "df_housing_left = df_housing_left.fillna(0)\n",
    "df_housing_left.isna().sum()"
   ]
  },
  {
   "cell_type": "code",
   "execution_count": null,
   "id": "d1418f88",
   "metadata": {},
   "outputs": [],
   "source": [
    "df_housing_left.columns"
   ]
  },
  {
   "cell_type": "code",
   "execution_count": null,
   "id": "01018619",
   "metadata": {},
   "outputs": [],
   "source": [
    "df_housing_left.shape"
   ]
  },
  {
   "cell_type": "code",
   "execution_count": null,
   "id": "8c4b2cf6",
   "metadata": {},
   "outputs": [],
   "source": [
    "df_housing_left = df_housing_left.rename(columns={'distrito_barrio':'district'})"
   ]
  },
  {
   "cell_type": "code",
   "execution_count": null,
   "id": "661aed82",
   "metadata": {},
   "outputs": [],
   "source": [
    "df_merged = df_housing_left"
   ]
  },
  {
   "cell_type": "code",
   "execution_count": null,
   "id": "4a86fd7e",
   "metadata": {},
   "outputs": [],
   "source": [
    "df_merged.columns"
   ]
  },
  {
   "cell_type": "code",
   "execution_count": null,
   "id": "4799b3c3",
   "metadata": {},
   "outputs": [],
   "source": [
    "df_merged = df_merged[df_merged['price'] != 0]\n",
    "df_merged = df_merged[df_merged['surface'] >= 4]"
   ]
  },
  {
   "cell_type": "code",
   "execution_count": null,
   "id": "d6c60388",
   "metadata": {},
   "outputs": [],
   "source": [
    "df_merged['rooms/m2'] = df_merged['rooms'] / df_merged['surface']\n",
    "df_merged['bathrooms/m2'] = df_merged['bathrooms'] / df_merged['surface']"
   ]
  },
  {
   "cell_type": "code",
   "execution_count": null,
   "id": "16eabdfd",
   "metadata": {},
   "outputs": [],
   "source": [
    "df_merged.to_csv('../data/madrid/cleaned/merged_data.csv')"
   ]
  },
  {
   "cell_type": "code",
   "execution_count": null,
   "id": "29cb4f01",
   "metadata": {},
   "outputs": [],
   "source": [
    "sns.histplot(data=df_merged, x='price', bins=100, kde=True)"
   ]
  },
  {
   "cell_type": "code",
   "execution_count": null,
   "id": "981ecb15",
   "metadata": {},
   "outputs": [],
   "source": [
    "Q1 = df_merged['price'].quantile(0.25)\n",
    "Q3 = df_merged['price'].quantile(0.75)\n",
    "IQR = Q3 - Q1\n",
    "\n",
    "lower_bound = Q1 - 1.5 * IQR\n",
    "upper_bound = Q3 + 1.5 * IQR\n",
    "\n",
    "df_filterd = df_merged[(df_merged['price'] >= lower_bound) & (df_merged['price'] <= upper_bound)]"
   ]
  },
  {
   "cell_type": "code",
   "execution_count": null,
   "id": "e4758811",
   "metadata": {},
   "outputs": [],
   "source": [
    "df_filterd['price_log'] = np.log(df_filterd['price'])\n",
    "sns.histplot(df_filterd['price_log'], kde=True, bins=30)\n",
    "plt.xlabel('Price')\n",
    "plt.ylabel('Density')\n",
    "plt.show()"
   ]
  },
  {
   "cell_type": "code",
   "execution_count": null,
   "id": "9c1b50ec",
   "metadata": {},
   "outputs": [],
   "source": [
    "df_filterd['surface_log'] = np.log(df_filterd['surface'])\n",
    "sns.histplot(df_filterd['surface_log'], kde=True, bins=30)\n",
    "\n",
    "plt.xlabel('Surface')\n",
    "plt.ylabel('Density')\n",
    "plt.legend()\n",
    "plt.show()"
   ]
  },
  {
   "cell_type": "code",
   "execution_count": null,
   "id": "e241e8b5",
   "metadata": {},
   "outputs": [],
   "source": [
    "df_filterd.columns"
   ]
  },
  {
   "cell_type": "code",
   "execution_count": null,
   "id": "f3574a55",
   "metadata": {},
   "outputs": [],
   "source": [
    "df_filterd[['district']]"
   ]
  },
  {
   "cell_type": "code",
   "execution_count": null,
   "id": "9bd2a6af",
   "metadata": {},
   "outputs": [],
   "source": [
    "import json\n",
    "from sklearn.preprocessing import LabelEncoder\n",
    "\n",
    "encoder = LabelEncoder()\n",
    "\n",
    "df_filterd['district_encoded'] = encoder.fit_transform(df_filterd['district'])\n",
    "\n",
    "df_filterd['neighbourhood_encoded'] = encoder.fit_transform(df_filterd['neighbourhood'])\n",
    "\n",
    "encoder.fit(df_filterd['district'])\n",
    "district_mapping = {label: idx for idx, label in enumerate(encoder.classes_)}\n",
    "with open('district_mapping.json', 'w') as f:\n",
    "    json.dump(district_mapping, f)\n",
    "\n",
    "encoder.fit(df_filterd['neighbourhood'])\n",
    "neighbourhood_mapping = {label: idx for idx, label in enumerate(encoder.classes_)}\n",
    "\n",
    "with open('neighbourhood_mapping.json', 'w') as f:\n",
    "    json.dump(neighbourhood_mapping, f)"
   ]
  },
  {
   "cell_type": "code",
   "execution_count": null,
   "id": "345b92e0",
   "metadata": {},
   "outputs": [],
   "source": [
    "df_filterd = df_filterd.drop(columns=['address','price','surface','date','neighbourhood','district','house_id'])"
   ]
  },
  {
   "cell_type": "code",
   "execution_count": null,
   "id": "bf3f4ade",
   "metadata": {},
   "outputs": [],
   "source": [
    "df_filterd = df_filterd.dropna()"
   ]
  },
  {
   "cell_type": "code",
   "execution_count": null,
   "id": "5d94fe5c",
   "metadata": {},
   "outputs": [],
   "source": [
    "import seaborn as sns\n",
    "import matplotlib.pyplot as plt\n",
    "correlation_matrix = df_filterd.corr()\n",
    "# Create a heatmap\n",
    "plt.figure(figsize=(12, 10))\n",
    "sns.heatmap(correlation_matrix)\n",
    "\n",
    "# Set the title and labels\n",
    "plt.title('Correlation Heatmap')\n",
    "plt.xlabel('Features')\n",
    "plt.ylabel('Features')\n",
    "\n",
    "# Display the heatmap\n",
    "plt.show()"
   ]
  },
  {
   "cell_type": "code",
   "execution_count": null,
   "id": "1ef83ff9",
   "metadata": {},
   "outputs": [],
   "source": [
    "from sklearn.model_selection import train_test_split\n",
    "from sklearn.ensemble import RandomForestRegressor\n",
    "from sklearn.linear_model import LinearRegression\n",
    "from sklearn.metrics import mean_squared_error\n",
    "\n",
    "\n",
    "X = df_filterd.drop('price_log', axis=1)\n",
    "y = df_filterd['price_log'] \n",
    "\n",
    "X_train, X_test, y_train, y_test = train_test_split(X, y, test_size=0.2, random_state=42)"
   ]
  },
  {
   "cell_type": "code",
   "execution_count": null,
   "id": "f1e7a86b",
   "metadata": {},
   "outputs": [],
   "source": [
    "from sklearn.metrics import mean_squared_error\n",
    "import matplotlib.pyplot as plt\n",
    "\n",
    "model = LinearRegression()\n",
    "model.fit(X_train, y_train)\n",
    "\n",
    "y_train_pred = model.predict(X_train)\n",
    "mse_train = mean_squared_error(y_train, y_train_pred)\n",
    "r_squared_train = model.score(X_train, y_train)\n",
    "\n",
    "y_test_pred = model.predict(X_test)\n",
    "mse_test = mean_squared_error(y_test, y_test_pred)\n",
    "r_squared_test = model.score(X_test, y_test)\n",
    "\n",
    "print(\"RMSE - Training set:\", mse_train)\n",
    "print(\"R² - Training set:\", r_squared_train)\n",
    "print(\"RMSE - Test set:\", mse_test)\n",
    "print(\"R² - Test set:\", r_squared_test)\n"
   ]
  },
  {
   "cell_type": "code",
   "execution_count": null,
   "id": "62de5c57",
   "metadata": {},
   "outputs": [],
   "source": [
    "plt.figure(figsize=(10, 5))\n",
    "\n",
    "plt.subplot(1, 2, 1)\n",
    "plt.scatter(y_train, y_train_pred)\n",
    "plt.plot([min(y_train), max(y_train)], [min(y_train), max(y_train)], color='red') # line y=x\n",
    "plt.xlabel('Actual')\n",
    "plt.ylabel('Predicted')\n",
    "plt.title('Training set')\n",
    "\n",
    "plt.subplot(1, 2, 2)\n",
    "plt.scatter(y_test, y_test_pred)\n",
    "plt.plot([min(y_test), max(y_test)], [min(y_test), max(y_test)], color='red') # line y=x\n",
    "plt.xlabel('Actual')\n",
    "plt.ylabel('Predicted')\n",
    "plt.title('Test set')\n",
    "\n",
    "plt.tight_layout()\n",
    "plt.show()"
   ]
  },
  {
   "cell_type": "code",
   "execution_count": null,
   "id": "7c330f1b",
   "metadata": {},
   "outputs": [],
   "source": [
    "from sklearn.metrics import mean_squared_error, r2_score\n",
    "\n",
    "random_forest = RandomForestRegressor(n_estimators=100, max_depth=20, random_state=42)\n",
    "\n",
    "random_forest.fit(X_train, y_train)\n",
    "\n",
    "y_train_pred_rf = random_forest.predict(X_train)\n",
    "\n",
    "y_test_pred_rf = random_forest.predict(X_test)\n",
    "\n",
    "rmse_train = mean_squared_error(y_train, y_train_pred_rf)\n",
    "rmse_test = mean_squared_error(y_test, y_test_pred_rf)\n",
    "\n",
    "r2_train = r2_score(y_train, y_train_pred_rf)\n",
    "r2_test = r2_score(y_test, y_test_pred_rf)\n",
    "\n",
    "print(\"RMSE - Training set:\", rmse_train)\n",
    "print(\"RMSE - Test set:\", rmse_test)\n",
    "print(\"R² - Training set:\", r2_train)\n",
    "print(\"R² - Test set:\", r2_test)"
   ]
  },
  {
   "cell_type": "code",
   "execution_count": null,
   "id": "9380020b",
   "metadata": {},
   "outputs": [],
   "source": [
    "plt.figure(figsize=(10, 5))\n",
    "\n",
    "plt.subplot(1, 2, 1)\n",
    "plt.scatter(y_train, y_train_pred_rf)\n",
    "plt.plot([min(y_train), max(y_train)], [min(y_train), max(y_train)], color='red') # line y=x\n",
    "plt.xlabel('Actual')\n",
    "plt.ylabel('Predicted')\n",
    "plt.title('Training set')\n",
    "\n",
    "plt.subplot(1, 2, 2)\n",
    "plt.scatter(y_test, y_test_pred_rf)\n",
    "plt.plot([min(y_test), max(y_test)], [min(y_test), max(y_test)], color='red') # line y=x\n",
    "plt.xlabel('Actual')\n",
    "plt.ylabel('Predicted')\n",
    "plt.title('Test set')\n",
    "\n",
    "plt.tight_layout()\n",
    "plt.show()"
   ]
  },
  {
   "cell_type": "code",
   "execution_count": null,
   "id": "84bd48b5",
   "metadata": {},
   "outputs": [],
   "source": [
    "#save the model in a pickle file\n",
    "import pickle\n",
    "\n",
    "filename = '../models/rf_model.pkl'\n",
    "with open(filename, 'wb') as file:\n",
    "    pickle.dump(random_forest, open(filename, 'wb'))\n",
    "\n",
    "print(\"Model saved in file: %s\" % filename)"
   ]
  },
  {
   "cell_type": "code",
   "execution_count": null,
   "id": "253bbfcd",
   "metadata": {},
   "outputs": [],
   "source": [
    "fig = plt.figure(figsize=(10, 7))\n",
    "\n",
    "feature_importance = random_forest.feature_importances_\n",
    "features = X_train.columns\n",
    "df_feature_importance = pd.DataFrame({'features': features, 'importance': feature_importance})\n",
    "\n",
    "df_feature_importance = df_feature_importance.sort_values('importance', ascending=True)\n",
    "\n",
    "df_feature_importance.plot(kind='barh', x='features', y='importance', figsize=(10, 5))\n",
    "plt.xlabel('Importance')\n",
    "plt.ylabel('Features')\n",
    "plt.title('Feature Importance')\n",
    "plt.show()"
   ]
  },
  {
   "cell_type": "code",
   "execution_count": null,
   "id": "d36366f7",
   "metadata": {},
   "outputs": [],
   "source": [
    "print(X_train.columns)"
   ]
  },
  {
   "cell_type": "code",
   "execution_count": null,
   "id": "72118de1",
   "metadata": {},
   "outputs": [],
   "source": [
    "X_train.info()"
   ]
  }
 ],
 "metadata": {
  "kernelspec": {
   "display_name": "Python 3 (ipykernel)",
   "language": "python",
   "name": "python3"
  },
  "language_info": {
   "codemirror_mode": {
    "name": "ipython",
    "version": 3
   },
   "file_extension": ".py",
   "mimetype": "text/x-python",
   "name": "python",
   "nbconvert_exporter": "python",
   "pygments_lexer": "ipython3",
   "version": "3.10.13"
  }
 },
 "nbformat": 4,
 "nbformat_minor": 5
}
